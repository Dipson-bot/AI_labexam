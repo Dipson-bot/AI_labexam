{
  "nbformat": 4,
  "nbformat_minor": 0,
  "metadata": {
    "colab": {
      "provenance": [],
      "authorship_tag": "ABX9TyPNABTy6hXg5msajW63KYqN",
      "include_colab_link": true
    },
    "kernelspec": {
      "name": "python3",
      "display_name": "Python 3"
    },
    "language_info": {
      "name": "python"
    }
  },
  "cells": [
    {
      "cell_type": "markdown",
      "metadata": {
        "id": "view-in-github",
        "colab_type": "text"
      },
      "source": [
        "<a href=\"https://colab.research.google.com/github/Dipson-bot/AI_labexam/blob/main/block_heuristic_exam.ipynb\" target=\"_parent\"><img src=\"https://colab.research.google.com/assets/colab-badge.svg\" alt=\"Open In Colab\"/></a>"
      ]
    },
    {
      "cell_type": "code",
      "execution_count": 4,
      "metadata": {
        "colab": {
          "base_uri": "https://localhost:8080/"
        },
        "id": "7mstQ1vuJseP",
        "outputId": "36f33872-102b-4a9c-bae8-30d75c2a46dc"
      },
      "outputs": [
        {
          "output_type": "stream",
          "name": "stdout",
          "text": [
            "Heuristic Value: -4\n"
          ]
        }
      ],
      "source": [
        "def calculate_heuristic(start_state, goal_state):\n",
        "\n",
        "  heuristic = 0\n",
        "  n = len(start_state)\n",
        "  for i in range(n):\n",
        "    if start_state[i:] == goal_state[i:]:\n",
        "      heuristic += 1\n",
        "      break\n",
        "    else:\n",
        "      heuristic -= 1\n",
        "  return heuristic\n",
        "\n",
        "# Example: Define the start and goal states\n",
        "start_state = [\"A\", \"D\", \"C\", \"B\"] # Top to bottom\n",
        "goal_state = [\"A\", \"B\", \"C\", \"D\"] # Top to bottom\n",
        "# Calculate and print the heuristic value\n",
        "heuristic_value = calculate_heuristic(start_state, goal_state)\n",
        "print(f\"Heuristic Value: {heuristic_value}\")"
      ]
    }
  ]
}