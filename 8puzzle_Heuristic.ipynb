{
  "nbformat": 4,
  "nbformat_minor": 0,
  "metadata": {
    "colab": {
      "provenance": []
    },
    "kernelspec": {
      "name": "python3",
      "display_name": "Python 3"
    },
    "language_info": {
      "name": "python"
    }
  },
  "cells": [
    {
      "cell_type": "code",
      "execution_count": 4,
      "metadata": {
        "colab": {
          "base_uri": "https://localhost:8080/"
        },
        "id": "Lt2XRFHmjQ-t",
        "outputId": "63728dc4-6a69-42b0-d5bf-6648d98e26e3"
      },
      "outputs": [
        {
          "output_type": "stream",
          "name": "stdout",
          "text": [
            "Heuristic Value:  1\n"
          ]
        }
      ],
      "source": [
        "def manhattan_distance(state,goal):\n",
        "  distance = 0\n",
        "  for i in range(1,9):\n",
        "    current_index = state.index(i)\n",
        "    goal_index = goal.index(i)\n",
        "    current_row,current_col = divmod(current_index,3)\n",
        "    goal_row,goal_col = divmod(goal_index,3)\n",
        "    distance += abs(current_row - goal_row) + abs(current_col - goal_col)\n",
        "  return distance\n",
        "initial_state=[1,2,3,4,5,6,7,0,8]\n",
        "goal_state=[1,2,3,4,5,6,7,8,0]\n",
        "heuristic_value = manhattan_distance(initial_state,goal_state)\n",
        "print(\"Heuristic Value: \",heuristic_value)"
      ]
    }
  ]
}