{
  "nbformat": 4,
  "nbformat_minor": 0,
  "metadata": {
    "colab": {
      "provenance": []
    },
    "kernelspec": {
      "name": "python3",
      "display_name": "Python 3"
    },
    "language_info": {
      "name": "python"
    }
  },
  "cells": [
    {
      "cell_type": "code",
      "execution_count": 1,
      "metadata": {
        "colab": {
          "base_uri": "https://localhost:8080/"
        },
        "id": "4mY-BclcMY6L",
        "outputId": "8b9ed617-a661-4be5-e207-7593f6a3b334"
      },
      "outputs": [
        {
          "output_type": "stream",
          "name": "stdout",
          "text": [
            "Initial weights: [0.1 0.8]\n",
            "Input: [0 1], Actual: 0, Predicted: 1, Updated Weights: [0.1 0.7]\n",
            "Input: [0 1], Actual: 0, Predicted: 1, Updated Weights: [0.1 0.6]\n",
            "Input: [0 1], Actual: 0, Predicted: 1, Updated Weights: [0.1 0.5]\n",
            "Input: [0 1], Actual: 0, Predicted: 1, Updated Weights: [0.1 0.4]\n",
            "Final weights: [0.1 0.4]\n"
          ]
        }
      ],
      "source": [
        "import numpy as np\n",
        "\n",
        "# Define step function\n",
        "def step(x, threshold=0.5):\n",
        "    return 1 if x >= threshold else 0\n",
        "\n",
        "# Initialize inputs and outputs for AND gate\n",
        "X = np.array([[0, 0], [0, 1], [1, 0], [1, 1]])\n",
        "y = np.array([0, 0, 0, 1])\n",
        "\n",
        "# Randomly initialize weights with one decimal precision\n",
        "weights = np.round(np.random.rand(X.shape[1]), 1)\n",
        "print(\"Initial weights:\", weights)\n",
        "\n",
        "# Learning parameters\n",
        "lr = 0.1\n",
        "threshold = 0.5\n",
        "\n",
        "# Training loop\n",
        "while True:\n",
        "    iterateFlag = False\n",
        "    for x_input, y_actual in zip(X, y):\n",
        "        # Calculate weighted sum and prediction\n",
        "        weighted_sum = np.dot(x_input, weights)\n",
        "        y_pred = step(weighted_sum, threshold)\n",
        "\n",
        "        # Update weights if prediction is incorrect\n",
        "        error = y_actual - y_pred\n",
        "        if error != 0:\n",
        "            iterateFlag = True\n",
        "            weights += lr * error * x_input\n",
        "            print(f\"Input: {x_input}, Actual: {y_actual}, Predicted: {y_pred}, Updated Weights: {weights}\")\n",
        "\n",
        "    if not iterateFlag:\n",
        "        break\n",
        "\n",
        "print(\"Final weights:\", weights)\n"
      ]
    }
  ]
}